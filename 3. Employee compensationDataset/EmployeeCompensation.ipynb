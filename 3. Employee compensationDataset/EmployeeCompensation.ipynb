{
 "cells": [
  {
   "cell_type": "code",
   "execution_count": 1,
   "metadata": {},
   "outputs": [],
   "source": [
    "import numpy as np\n",
    "import pandas as pd\n",
    "from matplotlib import pyplot as plt\n",
    "import seaborn as sns\n",
    "sns.set(color_codes=True)"
   ]
  },
  {
   "cell_type": "code",
   "execution_count": 71,
   "metadata": {},
   "outputs": [],
   "source": [
    "from sklearn.model_selection import train_test_split          #Split Data into train-test\n",
    "from sklearn.ensemble import RandomForestClassifier as Rf     #RandomForestClassifer\n",
    "from sklearn.preprocessing import LabelEncoder                #label encoder to change value"
   ]
  },
  {
   "cell_type": "code",
   "execution_count": 47,
   "metadata": {},
   "outputs": [],
   "source": [
    "from sklearn.metrics import confusion_matrix            # consfusion matrix for true positive\n",
    "from sklearn.metrics import accuracy_score            # accuracy score\n",
    "from sklearn.metrics import classification_report"
   ]
  },
  {
   "cell_type": "code",
   "execution_count": 3,
   "metadata": {},
   "outputs": [],
   "source": [
    "df_train = pd.read_csv(\"train/train.csv\")"
   ]
  },
  {
   "cell_type": "code",
   "execution_count": 4,
   "metadata": {},
   "outputs": [
    {
     "data": {
      "text/html": [
       "<div>\n",
       "<style scoped>\n",
       "    .dataframe tbody tr th:only-of-type {\n",
       "        vertical-align: middle;\n",
       "    }\n",
       "\n",
       "    .dataframe tbody tr th {\n",
       "        vertical-align: top;\n",
       "    }\n",
       "\n",
       "    .dataframe thead th {\n",
       "        text-align: right;\n",
       "    }\n",
       "</style>\n",
       "<table border=\"1\" class=\"dataframe\">\n",
       "  <thead>\n",
       "    <tr style=\"text-align: right;\">\n",
       "      <th></th>\n",
       "      <th>ID</th>\n",
       "      <th>Year Type</th>\n",
       "      <th>Year</th>\n",
       "      <th>Organization Group Code</th>\n",
       "      <th>Organization Group</th>\n",
       "      <th>Department Code</th>\n",
       "      <th>Department</th>\n",
       "      <th>Union Code</th>\n",
       "      <th>Union</th>\n",
       "      <th>Job Family Code</th>\n",
       "      <th>...</th>\n",
       "      <th>Job Code</th>\n",
       "      <th>Job</th>\n",
       "      <th>Employee Identifier</th>\n",
       "      <th>Overtime</th>\n",
       "      <th>Other Salaries</th>\n",
       "      <th>Retirement</th>\n",
       "      <th>Health/Dental</th>\n",
       "      <th>Other Benefits</th>\n",
       "      <th>Total Benefits</th>\n",
       "      <th>Class</th>\n",
       "    </tr>\n",
       "  </thead>\n",
       "  <tbody>\n",
       "    <tr>\n",
       "      <td>0</td>\n",
       "      <td>9248</td>\n",
       "      <td>Fiscal</td>\n",
       "      <td>2017</td>\n",
       "      <td>3</td>\n",
       "      <td>Human Welfare &amp; Neighborhood Development</td>\n",
       "      <td>DSS</td>\n",
       "      <td>HSA Human Services Agency</td>\n",
       "      <td>535</td>\n",
       "      <td>SEIU - Human Services, Local 1021</td>\n",
       "      <td>2900</td>\n",
       "      <td>...</td>\n",
       "      <td>2905</td>\n",
       "      <td>Senior Eligibility Worker</td>\n",
       "      <td>41351</td>\n",
       "      <td>0.00</td>\n",
       "      <td>240.00</td>\n",
       "      <td>11896.36</td>\n",
       "      <td>13765.55</td>\n",
       "      <td>5248.43</td>\n",
       "      <td>30910.34</td>\n",
       "      <td>2</td>\n",
       "    </tr>\n",
       "    <tr>\n",
       "      <td>1</td>\n",
       "      <td>44541</td>\n",
       "      <td>Fiscal</td>\n",
       "      <td>2014</td>\n",
       "      <td>6</td>\n",
       "      <td>General Administration &amp; Finance</td>\n",
       "      <td>ASR</td>\n",
       "      <td>ASR Assessor / Recorder</td>\n",
       "      <td>21</td>\n",
       "      <td>Prof &amp; Tech Engineers - Miscellaneous, Local 21</td>\n",
       "      <td>4200</td>\n",
       "      <td>...</td>\n",
       "      <td>4222</td>\n",
       "      <td>Sr Personal Property Auditor</td>\n",
       "      <td>41792</td>\n",
       "      <td>0.00</td>\n",
       "      <td>400.00</td>\n",
       "      <td>15429.94</td>\n",
       "      <td>9337.37</td>\n",
       "      <td>5599.01</td>\n",
       "      <td>30366.32</td>\n",
       "      <td>2</td>\n",
       "    </tr>\n",
       "    <tr>\n",
       "      <td>2</td>\n",
       "      <td>47031</td>\n",
       "      <td>Fiscal</td>\n",
       "      <td>2014</td>\n",
       "      <td>3</td>\n",
       "      <td>Human Welfare &amp; Neighborhood Development</td>\n",
       "      <td>DSS</td>\n",
       "      <td>HSA Human Services Agency</td>\n",
       "      <td>535</td>\n",
       "      <td>SEIU - Human Services, Local 1021</td>\n",
       "      <td>2900</td>\n",
       "      <td>...</td>\n",
       "      <td>2910</td>\n",
       "      <td>Social Worker</td>\n",
       "      <td>9357</td>\n",
       "      <td>0.00</td>\n",
       "      <td>1080.00</td>\n",
       "      <td>9682.00</td>\n",
       "      <td>8848.03</td>\n",
       "      <td>3463.92</td>\n",
       "      <td>21993.95</td>\n",
       "      <td>2</td>\n",
       "    </tr>\n",
       "    <tr>\n",
       "      <td>3</td>\n",
       "      <td>139416</td>\n",
       "      <td>Fiscal</td>\n",
       "      <td>2014</td>\n",
       "      <td>1</td>\n",
       "      <td>Public Protection</td>\n",
       "      <td>FIR</td>\n",
       "      <td>FIR Fire Department</td>\n",
       "      <td>798</td>\n",
       "      <td>Firefighters - Miscellaneous, Local 798</td>\n",
       "      <td>H000</td>\n",
       "      <td>...</td>\n",
       "      <td>H002</td>\n",
       "      <td>Firefighter</td>\n",
       "      <td>28022</td>\n",
       "      <td>25730.46</td>\n",
       "      <td>18414.18</td>\n",
       "      <td>24222.26</td>\n",
       "      <td>13911.13</td>\n",
       "      <td>2416.58</td>\n",
       "      <td>40549.97</td>\n",
       "      <td>3</td>\n",
       "    </tr>\n",
       "    <tr>\n",
       "      <td>4</td>\n",
       "      <td>123780</td>\n",
       "      <td>Fiscal</td>\n",
       "      <td>2013</td>\n",
       "      <td>2</td>\n",
       "      <td>Public Works, Transportation &amp; Commerce</td>\n",
       "      <td>MTA</td>\n",
       "      <td>MTA Municipal Transprtn Agncy</td>\n",
       "      <td>790</td>\n",
       "      <td>SEIU - Miscellaneous, Local 1021</td>\n",
       "      <td>1600</td>\n",
       "      <td>...</td>\n",
       "      <td>1224</td>\n",
       "      <td>Pr Payroll &amp; Personnel Clerk</td>\n",
       "      <td>51052</td>\n",
       "      <td>1138.28</td>\n",
       "      <td>2148.11</td>\n",
       "      <td>15437.62</td>\n",
       "      <td>12828.15</td>\n",
       "      <td>7246.54</td>\n",
       "      <td>35512.31</td>\n",
       "      <td>3</td>\n",
       "    </tr>\n",
       "  </tbody>\n",
       "</table>\n",
       "<p>5 rows × 21 columns</p>\n",
       "</div>"
      ],
      "text/plain": [
       "       ID Year Type  Year  Organization Group Code  \\\n",
       "0    9248    Fiscal  2017                        3   \n",
       "1   44541    Fiscal  2014                        6   \n",
       "2   47031    Fiscal  2014                        3   \n",
       "3  139416    Fiscal  2014                        1   \n",
       "4  123780    Fiscal  2013                        2   \n",
       "\n",
       "                         Organization Group Department Code  \\\n",
       "0  Human Welfare & Neighborhood Development             DSS   \n",
       "1          General Administration & Finance             ASR   \n",
       "2  Human Welfare & Neighborhood Development             DSS   \n",
       "3                         Public Protection             FIR   \n",
       "4   Public Works, Transportation & Commerce             MTA   \n",
       "\n",
       "                      Department  Union Code  \\\n",
       "0      HSA Human Services Agency         535   \n",
       "1        ASR Assessor / Recorder          21   \n",
       "2      HSA Human Services Agency         535   \n",
       "3            FIR Fire Department         798   \n",
       "4  MTA Municipal Transprtn Agncy         790   \n",
       "\n",
       "                                             Union Job Family Code  ...  \\\n",
       "0                SEIU - Human Services, Local 1021            2900  ...   \n",
       "1  Prof & Tech Engineers - Miscellaneous, Local 21            4200  ...   \n",
       "2                SEIU - Human Services, Local 1021            2900  ...   \n",
       "3          Firefighters - Miscellaneous, Local 798            H000  ...   \n",
       "4                 SEIU - Miscellaneous, Local 1021            1600  ...   \n",
       "\n",
       "  Job Code                           Job Employee Identifier  Overtime  \\\n",
       "0     2905     Senior Eligibility Worker               41351      0.00   \n",
       "1     4222  Sr Personal Property Auditor               41792      0.00   \n",
       "2     2910                 Social Worker                9357      0.00   \n",
       "3     H002                   Firefighter               28022  25730.46   \n",
       "4     1224  Pr Payroll & Personnel Clerk               51052   1138.28   \n",
       "\n",
       "   Other Salaries  Retirement  Health/Dental  Other Benefits  Total Benefits  \\\n",
       "0          240.00    11896.36       13765.55         5248.43        30910.34   \n",
       "1          400.00    15429.94        9337.37         5599.01        30366.32   \n",
       "2         1080.00     9682.00        8848.03         3463.92        21993.95   \n",
       "3        18414.18    24222.26       13911.13         2416.58        40549.97   \n",
       "4         2148.11    15437.62       12828.15         7246.54        35512.31   \n",
       "\n",
       "   Class  \n",
       "0      2  \n",
       "1      2  \n",
       "2      2  \n",
       "3      3  \n",
       "4      3  \n",
       "\n",
       "[5 rows x 21 columns]"
      ]
     },
     "execution_count": 4,
     "metadata": {},
     "output_type": "execute_result"
    }
   ],
   "source": [
    "df_train.head()"
   ]
  },
  {
   "cell_type": "code",
   "execution_count": 5,
   "metadata": {},
   "outputs": [
    {
     "data": {
      "text/plain": [
       "ID                         0\n",
       "Year Type                  0\n",
       "Year                       0\n",
       "Organization Group Code    0\n",
       "Organization Group         0\n",
       "Department Code            0\n",
       "Department                 0\n",
       "Union Code                 0\n",
       "Union                      0\n",
       "Job Family Code            0\n",
       "Job Family                 0\n",
       "Job Code                   0\n",
       "Job                        0\n",
       "Employee Identifier        0\n",
       "Overtime                   0\n",
       "Other Salaries             0\n",
       "Retirement                 0\n",
       "Health/Dental              0\n",
       "Other Benefits             0\n",
       "Total Benefits             0\n",
       "Class                      0\n",
       "dtype: int64"
      ]
     },
     "execution_count": 5,
     "metadata": {},
     "output_type": "execute_result"
    }
   ],
   "source": [
    "df_train.isnull().sum()"
   ]
  },
  {
   "cell_type": "code",
   "execution_count": 6,
   "metadata": {},
   "outputs": [
    {
     "data": {
      "text/plain": [
       "ID                           int64\n",
       "Year Type                   object\n",
       "Year                         int64\n",
       "Organization Group Code      int64\n",
       "Organization Group          object\n",
       "Department Code             object\n",
       "Department                  object\n",
       "Union Code                   int64\n",
       "Union                       object\n",
       "Job Family Code             object\n",
       "Job Family                  object\n",
       "Job Code                    object\n",
       "Job                         object\n",
       "Employee Identifier          int64\n",
       "Overtime                   float64\n",
       "Other Salaries             float64\n",
       "Retirement                 float64\n",
       "Health/Dental              float64\n",
       "Other Benefits             float64\n",
       "Total Benefits             float64\n",
       "Class                        int64\n",
       "dtype: object"
      ]
     },
     "execution_count": 6,
     "metadata": {},
     "output_type": "execute_result"
    }
   ],
   "source": [
    "df_train.dtypes"
   ]
  },
  {
   "cell_type": "code",
   "execution_count": 7,
   "metadata": {},
   "outputs": [
    {
     "data": {
      "text/plain": [
       "Index(['ID', 'Year Type', 'Year', 'Organization Group Code',\n",
       "       'Organization Group', 'Department Code', 'Department', 'Union Code',\n",
       "       'Union', 'Job Family Code', 'Job Family', 'Job Code', 'Job',\n",
       "       'Employee Identifier', 'Overtime', 'Other Salaries', 'Retirement',\n",
       "       'Health/Dental', 'Other Benefits', 'Total Benefits', 'Class'],\n",
       "      dtype='object')"
      ]
     },
     "execution_count": 7,
     "metadata": {},
     "output_type": "execute_result"
    }
   ],
   "source": [
    "df_train.columns"
   ]
  },
  {
   "cell_type": "markdown",
   "metadata": {},
   "source": [
    "### Item Drop\n",
    "- ID \n",
    "- Year \n",
    "- Year Type\n",
    "- Organization Group Code \n",
    "- department code  \n",
    "- union code \n",
    "- job family code \n",
    "- job code\n",
    "- Employee Indentifier \n",
    "- total benifits"
   ]
  },
  {
   "cell_type": "code",
   "execution_count": 8,
   "metadata": {},
   "outputs": [
    {
     "data": {
      "text/plain": [
       "(149087, 21)"
      ]
     },
     "execution_count": 8,
     "metadata": {},
     "output_type": "execute_result"
    }
   ],
   "source": [
    "df_train.shape"
   ]
  },
  {
   "cell_type": "code",
   "execution_count": 9,
   "metadata": {},
   "outputs": [
    {
     "data": {
      "text/plain": [
       "array([2, 3, 1], dtype=int64)"
      ]
     },
     "execution_count": 9,
     "metadata": {},
     "output_type": "execute_result"
    }
   ],
   "source": [
    "df_train[\"Class\"].unique()"
   ]
  },
  {
   "cell_type": "code",
   "execution_count": 10,
   "metadata": {},
   "outputs": [
    {
     "data": {
      "text/plain": [
       "<matplotlib.axes._subplots.AxesSubplot at 0x29f2565ad08>"
      ]
     },
     "execution_count": 10,
     "metadata": {},
     "output_type": "execute_result"
    },
    {
     "data": {
      "image/png": "[encoded data removed]",
      "text/plain": [
       "<Figure size 432x288 with 1 Axes>"
      ]
     },
     "metadata": {},
     "output_type": "display_data"
    }
   ],
   "source": [
    "sns.countplot(df_train['Class'])"
   ]
  },
  {
   "cell_type": "code",
   "execution_count": 11,
   "metadata": {},
   "outputs": [
    {
     "data": {
      "text/plain": [
       "Department                      Class\n",
       "AAM Asian Art Museum            2        0.442509\n",
       "                                1        0.414634\n",
       "                                3        0.142857\n",
       "ADM Gen Svcs Agency-City Admin  2        0.389155\n",
       "                                1        0.360978\n",
       "                                           ...   \n",
       "WTR Water Enterprise            2        0.286907\n",
       "                                1        0.241483\n",
       "WWE Wastewater Enterprise       3        0.536916\n",
       "                                1        0.237383\n",
       "                                2        0.225701\n",
       "Name: Class, Length: 166, dtype: float64"
      ]
     },
     "execution_count": 11,
     "metadata": {},
     "output_type": "execute_result"
    }
   ],
   "source": [
    "df_train.groupby('Department')['Class'].value_counts(normalize=True)"
   ]
  },
  {
   "cell_type": "code",
   "execution_count": 12,
   "metadata": {},
   "outputs": [
    {
     "data": {
      "text/html": [
       "<div>\n",
       "<style scoped>\n",
       "    .dataframe tbody tr th:only-of-type {\n",
       "        vertical-align: middle;\n",
       "    }\n",
       "\n",
       "    .dataframe tbody tr th {\n",
       "        vertical-align: top;\n",
       "    }\n",
       "\n",
       "    .dataframe thead th {\n",
       "        text-align: right;\n",
       "    }\n",
       "</style>\n",
       "<table border=\"1\" class=\"dataframe\">\n",
       "  <thead>\n",
       "    <tr style=\"text-align: right;\">\n",
       "      <th></th>\n",
       "      <th>ID</th>\n",
       "      <th>Year</th>\n",
       "      <th>Organization Group Code</th>\n",
       "      <th>Union Code</th>\n",
       "      <th>Employee Identifier</th>\n",
       "      <th>Overtime</th>\n",
       "      <th>Other Salaries</th>\n",
       "      <th>Retirement</th>\n",
       "      <th>Health/Dental</th>\n",
       "      <th>Other Benefits</th>\n",
       "      <th>Total Benefits</th>\n",
       "      <th>Class</th>\n",
       "    </tr>\n",
       "  </thead>\n",
       "  <tbody>\n",
       "    <tr>\n",
       "      <td>count</td>\n",
       "      <td>149087.000000</td>\n",
       "      <td>149087.000000</td>\n",
       "      <td>149087.00000</td>\n",
       "      <td>149087.000000</td>\n",
       "      <td>149087.000000</td>\n",
       "      <td>149087.000000</td>\n",
       "      <td>149087.000000</td>\n",
       "      <td>149087.000000</td>\n",
       "      <td>149087.000000</td>\n",
       "      <td>149087.000000</td>\n",
       "      <td>149087.000000</td>\n",
       "      <td>149087.000000</td>\n",
       "    </tr>\n",
       "    <tr>\n",
       "      <td>mean</td>\n",
       "      <td>106616.273807</td>\n",
       "      <td>2015.072018</td>\n",
       "      <td>2.97698</td>\n",
       "      <td>491.154963</td>\n",
       "      <td>28508.984465</td>\n",
       "      <td>4511.488439</td>\n",
       "      <td>3754.638895</td>\n",
       "      <td>12632.395320</td>\n",
       "      <td>9058.531893</td>\n",
       "      <td>4720.552627</td>\n",
       "      <td>26411.479840</td>\n",
       "      <td>2.014347</td>\n",
       "    </tr>\n",
       "    <tr>\n",
       "      <td>std</td>\n",
       "      <td>61550.046783</td>\n",
       "      <td>1.410452</td>\n",
       "      <td>1.58208</td>\n",
       "      <td>333.914881</td>\n",
       "      <td>16460.652590</td>\n",
       "      <td>11361.792998</td>\n",
       "      <td>7516.445237</td>\n",
       "      <td>9657.913757</td>\n",
       "      <td>5024.486147</td>\n",
       "      <td>3933.772085</td>\n",
       "      <td>16893.424789</td>\n",
       "      <td>0.816750</td>\n",
       "    </tr>\n",
       "    <tr>\n",
       "      <td>min</td>\n",
       "      <td>0.000000</td>\n",
       "      <td>2013.000000</td>\n",
       "      <td>1.00000</td>\n",
       "      <td>1.000000</td>\n",
       "      <td>1.000000</td>\n",
       "      <td>-12308.660000</td>\n",
       "      <td>-19131.100000</td>\n",
       "      <td>-28723.190000</td>\n",
       "      <td>-2946.530000</td>\n",
       "      <td>-9857.740000</td>\n",
       "      <td>-19814.440000</td>\n",
       "      <td>1.000000</td>\n",
       "    </tr>\n",
       "    <tr>\n",
       "      <td>25%</td>\n",
       "      <td>53204.500000</td>\n",
       "      <td>2014.000000</td>\n",
       "      <td>2.00000</td>\n",
       "      <td>216.000000</td>\n",
       "      <td>14244.000000</td>\n",
       "      <td>0.000000</td>\n",
       "      <td>0.000000</td>\n",
       "      <td>3228.975000</td>\n",
       "      <td>4274.930000</td>\n",
       "      <td>1578.475000</td>\n",
       "      <td>9313.965000</td>\n",
       "      <td>1.000000</td>\n",
       "    </tr>\n",
       "    <tr>\n",
       "      <td>50%</td>\n",
       "      <td>106623.000000</td>\n",
       "      <td>2015.000000</td>\n",
       "      <td>2.00000</td>\n",
       "      <td>535.000000</td>\n",
       "      <td>28520.000000</td>\n",
       "      <td>0.000000</td>\n",
       "      <td>698.350000</td>\n",
       "      <td>12839.710000</td>\n",
       "      <td>12137.400000</td>\n",
       "      <td>4395.510000</td>\n",
       "      <td>30311.560000</td>\n",
       "      <td>2.000000</td>\n",
       "    </tr>\n",
       "    <tr>\n",
       "      <td>75%</td>\n",
       "      <td>159919.500000</td>\n",
       "      <td>2016.000000</td>\n",
       "      <td>4.00000</td>\n",
       "      <td>790.000000</td>\n",
       "      <td>42804.500000</td>\n",
       "      <td>2872.240000</td>\n",
       "      <td>4558.190000</td>\n",
       "      <td>19137.745000</td>\n",
       "      <td>12828.180000</td>\n",
       "      <td>6943.835000</td>\n",
       "      <td>38510.300000</td>\n",
       "      <td>3.000000</td>\n",
       "    </tr>\n",
       "    <tr>\n",
       "      <td>max</td>\n",
       "      <td>213201.000000</td>\n",
       "      <td>2017.000000</td>\n",
       "      <td>7.00000</td>\n",
       "      <td>990.000000</td>\n",
       "      <td>56987.000000</td>\n",
       "      <td>227313.620000</td>\n",
       "      <td>336726.340000</td>\n",
       "      <td>101306.010000</td>\n",
       "      <td>22052.150000</td>\n",
       "      <td>36815.390000</td>\n",
       "      <td>138503.520000</td>\n",
       "      <td>3.000000</td>\n",
       "    </tr>\n",
       "  </tbody>\n",
       "</table>\n",
       "</div>"
      ],
      "text/plain": [
       "                  ID           Year  Organization Group Code     Union Code  \\\n",
       "count  149087.000000  149087.000000             149087.00000  149087.000000   \n",
       "mean   106616.273807    2015.072018                  2.97698     491.154963   \n",
       "std     61550.046783       1.410452                  1.58208     333.914881   \n",
       "min         0.000000    2013.000000                  1.00000       1.000000   \n",
       "25%     53204.500000    2014.000000                  2.00000     216.000000   \n",
       "50%    106623.000000    2015.000000                  2.00000     535.000000   \n",
       "75%    159919.500000    2016.000000                  4.00000     790.000000   \n",
       "max    213201.000000    2017.000000                  7.00000     990.000000   \n",
       "\n",
       "       Employee Identifier       Overtime  Other Salaries     Retirement  \\\n",
       "count        149087.000000  149087.000000   149087.000000  149087.000000   \n",
       "mean          28508.984465    4511.488439     3754.638895   12632.395320   \n",
       "std           16460.652590   11361.792998     7516.445237    9657.913757   \n",
       "min               1.000000  -12308.660000   -19131.100000  -28723.190000   \n",
       "25%           14244.000000       0.000000        0.000000    3228.975000   \n",
       "50%           28520.000000       0.000000      698.350000   12839.710000   \n",
       "75%           42804.500000    2872.240000     4558.190000   19137.745000   \n",
       "max           56987.000000  227313.620000   336726.340000  101306.010000   \n",
       "\n",
       "       Health/Dental  Other Benefits  Total Benefits          Class  \n",
       "count  149087.000000   149087.000000   149087.000000  149087.000000  \n",
       "mean     9058.531893     4720.552627    26411.479840       2.014347  \n",
       "std      5024.486147     3933.772085    16893.424789       0.816750  \n",
       "min     -2946.530000    -9857.740000   -19814.440000       1.000000  \n",
       "25%      4274.930000     1578.475000     9313.965000       1.000000  \n",
       "50%     12137.400000     4395.510000    30311.560000       2.000000  \n",
       "75%     12828.180000     6943.835000    38510.300000       3.000000  \n",
       "max     22052.150000    36815.390000   138503.520000       3.000000  "
      ]
     },
     "execution_count": 12,
     "metadata": {},
     "output_type": "execute_result"
    }
   ],
   "source": [
    "df_train.describe()"
   ]
  },
  {
   "cell_type": "code",
   "execution_count": 13,
   "metadata": {},
   "outputs": [
    {
     "data": {
      "text/plain": [
       "array(['Senior Eligibility Worker', 'Sr Personal Property Auditor',\n",
       "       'Social Worker', ..., 'Chief Deputy Sheriff (PERS)',\n",
       "       'Parking Hearing Supervisor', 'Asst Chf, Bur Clm Invest&Admin'],\n",
       "      dtype=object)"
      ]
     },
     "execution_count": 13,
     "metadata": {},
     "output_type": "execute_result"
    }
   ],
   "source": [
    "#Unique Value in Job Column\n",
    "df_train['Job'].unique()"
   ]
  },
  {
   "cell_type": "code",
   "execution_count": 14,
   "metadata": {},
   "outputs": [
    {
     "data": {
      "text/plain": [
       "Job\n",
       "Account Clerk                                    SEIU - Miscellaneous, Local 1021\n",
       "Accountant I                      Prof & Tech Engineers - Miscellaneous, Local 21\n",
       "Accountant II                     Prof & Tech Engineers - Miscellaneous, Local 21\n",
       "Accountant II (OCII)                             SEIU - Miscellaneous, Local 1021\n",
       "Accountant III                    Prof & Tech Engineers - Miscellaneous, Local 21\n",
       "                                                       ...                       \n",
       "Wireropecable Maint Mech Train                     Stationary Engineers, Local 39\n",
       "Worker's Comp Supervisor 1                       SEIU - Miscellaneous, Local 1021\n",
       "Worker's Compensation Adjuster                   SEIU - Miscellaneous, Local 1021\n",
       "X-Ray Laboratory Aide                           SEIU - Health Workers, Local 1021\n",
       "Youth Comm Advisor                    Prof & Tech Engineers - Personnel, Local 21\n",
       "Name: Union, Length: 1146, dtype: object"
      ]
     },
     "execution_count": 14,
     "metadata": {},
     "output_type": "execute_result"
    }
   ],
   "source": [
    "df_train.groupby('Job')['Union'].max()"
   ]
  },
  {
   "cell_type": "code",
   "execution_count": 86,
   "metadata": {},
   "outputs": [
    {
     "data": {
      "text/plain": [
       "1086    9092\n",
       "973     5321\n",
       "842     4653\n",
       "766     2936\n",
       "442     2931\n",
       "307     2926\n",
       "829     2922\n",
       "828     2918\n",
       "764     2630\n",
       "838     2574\n",
       "Name: Job, dtype: int64"
      ]
     },
     "execution_count": 86,
     "metadata": {},
     "output_type": "execute_result"
    }
   ],
   "source": [
    "# No. of job by post\n",
    "df_train['Job'].value_counts()[:10]"
   ]
  },
  {
   "cell_type": "code",
   "execution_count": 16,
   "metadata": {},
   "outputs": [
    {
     "data": {
      "text/plain": [
       "([0, 1, 2, 3, 4, 5, 6, 7, 8, 9], <a list of 10 Text xticklabel objects>)"
      ]
     },
     "execution_count": 16,
     "metadata": {},
     "output_type": "execute_result"
    },
    {
     "data": {
      "image/png": "[encoded data removed]",
      "text/plain": [
       "<Figure size 1080x432 with 1 Axes>"
      ]
     },
     "metadata": {},
     "output_type": "display_data"
    }
   ],
   "source": [
    "plt.figure(figsize=(15,6))\n",
    "plt.plot(df_train['Job'].value_counts()[:10])\n",
    "plt.xticks(rotation=45)"
   ]
  },
  {
   "cell_type": "code",
   "execution_count": 17,
   "metadata": {},
   "outputs": [
    {
     "data": {
      "text/plain": [
       "SEIU - Miscellaneous, Local 1021                      42544\n",
       "Prof & Tech Engineers - Miscellaneous, Local 21       19292\n",
       "SEIU - Staff and Per Diem Nurses, Local 1021          11187\n",
       "Police Officers' Association                           9812\n",
       "Transport Workers - Transit Operators, Local 250-A     9092\n",
       "SEIU - Health Workers, Local 1021                      8275\n",
       "SEIU - Human Services, Local 1021                      6441\n",
       "Firefighters - Miscellaneous, Local 798                5517\n",
       "Municipal Executive Association - Miscellaneous        4402\n",
       "Laborers, Local 261                                    3692\n",
       "Name: Union, dtype: int64"
      ]
     },
     "execution_count": 17,
     "metadata": {},
     "output_type": "execute_result"
    }
   ],
   "source": [
    "df_train['Union'].value_counts()[:10]"
   ]
  },
  {
   "cell_type": "code",
   "execution_count": 18,
   "metadata": {},
   "outputs": [
    {
     "data": {
      "text/plain": [
       "([0, 1, 2, 3, 4, 5, 6, 7, 8, 9], <a list of 10 Text xticklabel objects>)"
      ]
     },
     "execution_count": 18,
     "metadata": {},
     "output_type": "execute_result"
    },
    {
     "data": {
      "image/png": "[encoded data removed]",
      "text/plain": [
       "<Figure size 1080x432 with 1 Axes>"
      ]
     },
     "metadata": {},
     "output_type": "display_data"
    }
   ],
   "source": [
    "plt.figure(figsize=(15,6))\n",
    "plt.plot(df_train['Union'].value_counts()[:10])\n",
    "plt.xticks(rotation=45)"
   ]
  },
  {
   "cell_type": "code",
   "execution_count": 89,
   "metadata": {},
   "outputs": [
    {
     "data": {
      "text/plain": [
       "Class\n",
       "1     53895.92\n",
       "2    117144.84\n",
       "3    227313.62\n",
       "Name: Overtime, dtype: float64"
      ]
     },
     "execution_count": 89,
     "metadata": {},
     "output_type": "execute_result"
    }
   ],
   "source": [
    "df_train.groupby('Class')['Overtime'].max()"
   ]
  },
  {
   "cell_type": "code",
   "execution_count": 87,
   "metadata": {},
   "outputs": [
    {
     "data": {
      "text/plain": [
       "(array([   0,    1,    2, ..., 1143, 1144, 1145]),\n",
       " <a list of 1146 Text xticklabel objects>)"
      ]
     },
     "execution_count": 87,
     "metadata": {},
     "output_type": "execute_result"
    },
    {
     "data": {
      "image/png": "[encoded data removed]",
      "text/plain": [
       "<Figure size 864x432 with 1 Axes>"
      ]
     },
     "metadata": {},
     "output_type": "display_data"
    }
   ],
   "source": [
    "plt.figure(figsize=(12,6))\n",
    "sns.countplot(df_train['Job'])\n",
    "plt.xticks(rotation=45)"
   ]
  },
  {
   "cell_type": "code",
   "execution_count": 20,
   "metadata": {},
   "outputs": [
    {
     "data": {
      "text/plain": [
       "Class\n",
       "1                Youth Comm Advisor\n",
       "2                Youth Comm Advisor\n",
       "3    Worker's Compensation Adjuster\n",
       "Name: Job, dtype: object"
      ]
     },
     "execution_count": 20,
     "metadata": {},
     "output_type": "execute_result"
    }
   ],
   "source": [
    "df_train.groupby(\"Class\")['Job'].max()"
   ]
  },
  {
   "cell_type": "code",
   "execution_count": 21,
   "metadata": {},
   "outputs": [],
   "source": [
    "df_youth=df_train.loc[df_train['Job'] == \"Youth Comm Advisor\"]"
   ]
  },
  {
   "cell_type": "code",
   "execution_count": 22,
   "metadata": {},
   "outputs": [
    {
     "data": {
      "text/plain": [
       "Class\n",
       "1     7120.025\n",
       "2    23886.660\n",
       "Name: Total Benefits, dtype: float64"
      ]
     },
     "execution_count": 22,
     "metadata": {},
     "output_type": "execute_result"
    }
   ],
   "source": [
    "mean_class_wise = df_youth.groupby(\"Class\")[\"Total Benefits\"].mean()\n",
    "mean_class_wise"
   ]
  },
  {
   "cell_type": "code",
   "execution_count": 23,
   "metadata": {},
   "outputs": [
    {
     "data": {
      "text/plain": [
       "Class\n",
       "1     2810.023086\n",
       "2    11475.992954\n",
       "3    12683.961075\n",
       "Name: Health/Dental, dtype: float64"
      ]
     },
     "execution_count": 23,
     "metadata": {},
     "output_type": "execute_result"
    }
   ],
   "source": [
    "df_train.groupby(\"Class\")[\"Health/Dental\"].mean()"
   ]
  },
  {
   "cell_type": "code",
   "execution_count": 24,
   "metadata": {},
   "outputs": [],
   "source": [
    "df_train.drop(['ID' ,'Year' ,'Year Type','Organization Group Code','Department Code','Union Code','Job Family Code','Job Code','Employee Identifier','Total Benefits'],1,inplace=True)"
   ]
  },
  {
   "cell_type": "code",
   "execution_count": 25,
   "metadata": {},
   "outputs": [
    {
     "data": {
      "text/plain": [
       "Index(['Organization Group', 'Department', 'Union', 'Job Family', 'Job',\n",
       "       'Overtime', 'Other Salaries', 'Retirement', 'Health/Dental',\n",
       "       'Other Benefits', 'Class'],\n",
       "      dtype='object')"
      ]
     },
     "execution_count": 25,
     "metadata": {},
     "output_type": "execute_result"
    }
   ],
   "source": [
    "df_train.columns"
   ]
  },
  {
   "cell_type": "markdown",
   "metadata": {},
   "source": [
    "## Label Encoding\n",
    "- Organization Group\n",
    "- Department\n",
    "- Union\n",
    "- Job Family"
   ]
  },
  {
   "cell_type": "code",
   "execution_count": 28,
   "metadata": {},
   "outputs": [],
   "source": [
    "le = LabelEncoder()"
   ]
  },
  {
   "cell_type": "code",
   "execution_count": 29,
   "metadata": {},
   "outputs": [],
   "source": [
    "le.fit(df_train['Organization Group'])\n",
    "df_train['Organization Group'] = le.transform(df_train['Organization Group'])\n",
    "       \n",
    "le.fit(df_train['Department'])\n",
    "df_train['Department'] = le.transform(df_train['Department'])\n",
    "             \n",
    "le.fit(df_train['Union'])\n",
    "df_train['Union'] = le.transform(df_train['Union'])\n",
    "       \n",
    "le.fit(df_train['Job Family'])\n",
    "df_train['Job Family'] = le.transform(df_train['Job Family'])\n",
    "\n",
    "le.fit(df_train['Job'])\n",
    "df_train['Job'] = le.transform(df_train['Job'])"
   ]
  },
  {
   "cell_type": "code",
   "execution_count": 30,
   "metadata": {},
   "outputs": [
    {
     "data": {
      "text/html": [
       "<div>\n",
       "<style scoped>\n",
       "    .dataframe tbody tr th:only-of-type {\n",
       "        vertical-align: middle;\n",
       "    }\n",
       "\n",
       "    .dataframe tbody tr th {\n",
       "        vertical-align: top;\n",
       "    }\n",
       "\n",
       "    .dataframe thead th {\n",
       "        text-align: right;\n",
       "    }\n",
       "</style>\n",
       "<table border=\"1\" class=\"dataframe\">\n",
       "  <thead>\n",
       "    <tr style=\"text-align: right;\">\n",
       "      <th></th>\n",
       "      <th>Organization Group</th>\n",
       "      <th>Department</th>\n",
       "      <th>Union</th>\n",
       "      <th>Job Family</th>\n",
       "      <th>Job</th>\n",
       "      <th>Overtime</th>\n",
       "      <th>Other Salaries</th>\n",
       "      <th>Retirement</th>\n",
       "      <th>Health/Dental</th>\n",
       "      <th>Other Benefits</th>\n",
       "      <th>Class</th>\n",
       "    </tr>\n",
       "  </thead>\n",
       "  <tbody>\n",
       "    <tr>\n",
       "      <td>0</td>\n",
       "      <td>4</td>\n",
       "      <td>34</td>\n",
       "      <td>61</td>\n",
       "      <td>21</td>\n",
       "      <td>883</td>\n",
       "      <td>0.00</td>\n",
       "      <td>240.00</td>\n",
       "      <td>11896.36</td>\n",
       "      <td>13765.55</td>\n",
       "      <td>5248.43</td>\n",
       "      <td>2</td>\n",
       "    </tr>\n",
       "    <tr>\n",
       "      <td>1</td>\n",
       "      <td>2</td>\n",
       "      <td>5</td>\n",
       "      <td>55</td>\n",
       "      <td>6</td>\n",
       "      <td>1007</td>\n",
       "      <td>0.00</td>\n",
       "      <td>400.00</td>\n",
       "      <td>15429.94</td>\n",
       "      <td>9337.37</td>\n",
       "      <td>5599.01</td>\n",
       "      <td>2</td>\n",
       "    </tr>\n",
       "    <tr>\n",
       "      <td>2</td>\n",
       "      <td>4</td>\n",
       "      <td>34</td>\n",
       "      <td>61</td>\n",
       "      <td>21</td>\n",
       "      <td>957</td>\n",
       "      <td>0.00</td>\n",
       "      <td>1080.00</td>\n",
       "      <td>9682.00</td>\n",
       "      <td>8848.03</td>\n",
       "      <td>3463.92</td>\n",
       "      <td>2</td>\n",
       "    </tr>\n",
       "    <tr>\n",
       "      <td>3</td>\n",
       "      <td>5</td>\n",
       "      <td>27</td>\n",
       "      <td>18</td>\n",
       "      <td>17</td>\n",
       "      <td>442</td>\n",
       "      <td>25730.46</td>\n",
       "      <td>18414.18</td>\n",
       "      <td>24222.26</td>\n",
       "      <td>13911.13</td>\n",
       "      <td>2416.58</td>\n",
       "      <td>3</td>\n",
       "    </tr>\n",
       "    <tr>\n",
       "      <td>4</td>\n",
       "      <td>6</td>\n",
       "      <td>39</td>\n",
       "      <td>62</td>\n",
       "      <td>34</td>\n",
       "      <td>782</td>\n",
       "      <td>1138.28</td>\n",
       "      <td>2148.11</td>\n",
       "      <td>15437.62</td>\n",
       "      <td>12828.15</td>\n",
       "      <td>7246.54</td>\n",
       "      <td>3</td>\n",
       "    </tr>\n",
       "  </tbody>\n",
       "</table>\n",
       "</div>"
      ],
      "text/plain": [
       "   Organization Group  Department  Union  Job Family   Job  Overtime  \\\n",
       "0                   4          34     61          21   883      0.00   \n",
       "1                   2           5     55           6  1007      0.00   \n",
       "2                   4          34     61          21   957      0.00   \n",
       "3                   5          27     18          17   442  25730.46   \n",
       "4                   6          39     62          34   782   1138.28   \n",
       "\n",
       "   Other Salaries  Retirement  Health/Dental  Other Benefits  Class  \n",
       "0          240.00    11896.36       13765.55         5248.43      2  \n",
       "1          400.00    15429.94        9337.37         5599.01      2  \n",
       "2         1080.00     9682.00        8848.03         3463.92      2  \n",
       "3        18414.18    24222.26       13911.13         2416.58      3  \n",
       "4         2148.11    15437.62       12828.15         7246.54      3  "
      ]
     },
     "execution_count": 30,
     "metadata": {},
     "output_type": "execute_result"
    }
   ],
   "source": [
    "df_train.head()"
   ]
  },
  {
   "cell_type": "code",
   "execution_count": 31,
   "metadata": {},
   "outputs": [],
   "source": [
    "X = df_train[['Organization Group', 'Department', 'Union', 'Job Family', 'Job',\n",
    "       'Overtime', 'Other Salaries', 'Retirement', 'Health/Dental',\n",
    "       'Other Benefits']]"
   ]
  },
  {
   "cell_type": "code",
   "execution_count": 64,
   "metadata": {},
   "outputs": [],
   "source": [
    "y = df_train[\"Class\"]"
   ]
  },
  {
   "cell_type": "code",
   "execution_count": 65,
   "metadata": {},
   "outputs": [],
   "source": [
    "train_X,test_X,train_y, test_y =train_test_split(X, y , test_size = 0.2,random_state = 0)"
   ]
  },
  {
   "cell_type": "code",
   "execution_count": 72,
   "metadata": {},
   "outputs": [],
   "source": [
    "rf = Rf(n_estimators =10)"
   ]
  },
  {
   "cell_type": "code",
   "execution_count": 73,
   "metadata": {},
   "outputs": [
    {
     "data": {
      "text/plain": [
       "RandomForestClassifier(bootstrap=True, class_weight=None, criterion='gini',\n",
       "                       max_depth=None, max_features='auto', max_leaf_nodes=None,\n",
       "                       min_impurity_decrease=0.0, min_impurity_split=None,\n",
       "                       min_samples_leaf=1, min_samples_split=2,\n",
       "                       min_weight_fraction_leaf=0.0, n_estimators=10,\n",
       "                       n_jobs=None, oob_score=False, random_state=None,\n",
       "                       verbose=0, warm_start=False)"
      ]
     },
     "execution_count": 73,
     "metadata": {},
     "output_type": "execute_result"
    }
   ],
   "source": [
    "rf.fit(train_X,train_y)"
   ]
  },
  {
   "cell_type": "code",
   "execution_count": 74,
   "metadata": {},
   "outputs": [],
   "source": [
    "predict_y = rf.predict(test_X)"
   ]
  },
  {
   "cell_type": "code",
   "execution_count": 85,
   "metadata": {},
   "outputs": [
    {
     "name": "stdout",
     "output_type": "stream",
     "text": [
      "Confusion Matrix: \n",
      " [[9803   75    4]\n",
      " [ 134 9600  113]\n",
      " [   9  198 9882]]\n"
     ]
    }
   ],
   "source": [
    "print(f'Confusion Matrix: \\n {confusion_matrix(test_y,predict_y)}')"
   ]
  },
  {
   "cell_type": "code",
   "execution_count": 80,
   "metadata": {},
   "outputs": [
    {
     "name": "stdout",
     "output_type": "stream",
     "text": [
      "Train Accuracy Score : 0.982124891005433\n"
     ]
    }
   ],
   "source": [
    "print(f\"Train Accuracy Score : {accuracy_score(test_y,predict_y)}\")"
   ]
  },
  {
   "cell_type": "code",
   "execution_count": 84,
   "metadata": {},
   "outputs": [
    {
     "name": "stdout",
     "output_type": "stream",
     "text": [
      "Classification Report : \n",
      "\n",
      "               precision    recall  f1-score   support\n",
      "\n",
      "           1       0.99      0.99      0.99      9882\n",
      "           2       0.97      0.97      0.97      9847\n",
      "           3       0.99      0.98      0.98     10089\n",
      "\n",
      "    accuracy                           0.98     29818\n",
      "   macro avg       0.98      0.98      0.98     29818\n",
      "weighted avg       0.98      0.98      0.98     29818\n",
      "\n"
     ]
    }
   ],
   "source": [
    "print(f'Classification Report : \\n\\n {classification_report(test_y,predict_y)}')"
   ]
  },
  {
   "cell_type": "code",
   "execution_count": null,
   "metadata": {},
   "outputs": [],
   "source": []
  }
 ],
 "metadata": {
  "kernelspec": {
   "display_name": "Python 3",
   "language": "python",
   "name": "python3"
  },
  "language_info": {
   "codemirror_mode": {
    "name": "ipython",
    "version": 3
   },
   "file_extension": ".py",
   "mimetype": "text/x-python",
   "name": "python",
   "nbconvert_exporter": "python",
   "pygments_lexer": "ipython3",
   "version": "3.8.8"
  }
 },
 "nbformat": 4,
 "nbformat_minor": 4
}
