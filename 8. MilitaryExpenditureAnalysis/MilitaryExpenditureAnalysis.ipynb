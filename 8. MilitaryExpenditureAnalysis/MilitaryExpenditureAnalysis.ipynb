{
 "cells": [
  {
   "cell_type": "code",
   "execution_count": 77,
   "metadata": {
    "_cell_guid": "b1076dfc-b9ad-4769-8c92-a6c4dae69d19",
    "_uuid": "8f2839f25d086af736a60e9eeb907d3b93b6e0e5"
   },
   "outputs": [],
   "source": [
    "import numpy as np # linear algebra\n",
    "import pandas as pd # data processing, CSV file I/O (e.g. pd.read_csv)\n",
    "\n",
    "import matplotlib.pyplot as plt\n",
    "import seaborn as sns\n",
    "%matplotlib inline\n",
    "\n",
    "pd.options.display.float_format = '{:,}'.format\n",
    "import warnings \n",
    "warnings.filterwarnings('ignore')"
   ]
  },
  {
   "cell_type": "code",
   "execution_count": 44,
   "metadata": {
    "_cell_guid": "79c7e3d0-c299-4dcb-8224-4455121ee9b0",
    "_uuid": "d629ff2d2480ee46fbb7e2d37f6b5fab8052498a"
   },
   "outputs": [],
   "source": [
    "df = pd.read_csv('Military Expenditure.csv', index_col =[0])\n",
    "df_with_index = pd.read_csv('Military Expenditure.csv')"
   ]
  },
  {
   "cell_type": "code",
   "execution_count": 45,
   "metadata": {},
   "outputs": [
    {
     "data": {
      "text/plain": [
       "Code                0\n",
       "Type                0\n",
       "Indicator Name      0\n",
       "1960              185\n",
       "1961              180\n",
       "1962              171\n",
       "1963              166\n",
       "1964              166\n",
       "1965              160\n",
       "1966              160\n",
       "1967              159\n",
       "1968              151\n",
       "1969              151\n",
       "1970              143\n",
       "1971              142\n",
       "1972              141\n",
       "1973              134\n",
       "1974              136\n",
       "1975              136\n",
       "1976              132\n",
       "1977              127\n",
       "1978              128\n",
       "1979              126\n",
       "1980              124\n",
       "1981              121\n",
       "1982              127\n",
       "1983              128\n",
       "1984              122\n",
       "1985              117\n",
       "1986              121\n",
       "                 ... \n",
       "1989              110\n",
       "1990              106\n",
       "1991              104\n",
       "1992               97\n",
       "1993               79\n",
       "1994               77\n",
       "1995               80\n",
       "1996               78\n",
       "1997               77\n",
       "1998               82\n",
       "1999               80\n",
       "2000               75\n",
       "2001               74\n",
       "2002               71\n",
       "2003               65\n",
       "2004               65\n",
       "2005               63\n",
       "2006               67\n",
       "2007               69\n",
       "2008               63\n",
       "2009               67\n",
       "2010               68\n",
       "2011               70\n",
       "2012               65\n",
       "2013               62\n",
       "2014               61\n",
       "2015               66\n",
       "2016               67\n",
       "2017               69\n",
       "2018               68\n",
       "Length: 62, dtype: int64"
      ]
     },
     "execution_count": 45,
     "metadata": {},
     "output_type": "execute_result"
    }
   ],
   "source": [
    "df.isnull().sum()"
   ]
  },
  {
   "cell_type": "code",
   "execution_count": 46,
   "metadata": {},
   "outputs": [
    {
     "name": "stdout",
     "output_type": "stream",
     "text": [
      "<class 'pandas.core.frame.DataFrame'>\n",
      "Index: 264 entries, Aruba to Zimbabwe\n",
      "Data columns (total 62 columns):\n",
      "Code              264 non-null object\n",
      "Type              264 non-null object\n",
      "Indicator Name    264 non-null object\n",
      "1960              79 non-null float64\n",
      "1961              84 non-null float64\n",
      "1962              93 non-null float64\n",
      "1963              98 non-null float64\n",
      "1964              98 non-null float64\n",
      "1965              104 non-null float64\n",
      "1966              104 non-null float64\n",
      "1967              105 non-null float64\n",
      "1968              113 non-null float64\n",
      "1969              113 non-null float64\n",
      "1970              121 non-null float64\n",
      "1971              122 non-null float64\n",
      "1972              123 non-null float64\n",
      "1973              130 non-null float64\n",
      "1974              128 non-null float64\n",
      "1975              128 non-null float64\n",
      "1976              132 non-null float64\n",
      "1977              137 non-null float64\n",
      "1978              136 non-null float64\n",
      "1979              138 non-null float64\n",
      "1980              140 non-null float64\n",
      "1981              143 non-null float64\n",
      "1982              137 non-null float64\n",
      "1983              136 non-null float64\n",
      "1984              142 non-null float64\n",
      "1985              147 non-null float64\n",
      "1986              143 non-null float64\n",
      "1987              147 non-null float64\n",
      "1988              145 non-null float64\n",
      "1989              154 non-null float64\n",
      "1990              158 non-null float64\n",
      "1991              160 non-null float64\n",
      "1992              167 non-null float64\n",
      "1993              185 non-null float64\n",
      "1994              187 non-null float64\n",
      "1995              184 non-null float64\n",
      "1996              186 non-null float64\n",
      "1997              187 non-null float64\n",
      "1998              182 non-null float64\n",
      "1999              184 non-null float64\n",
      "2000              189 non-null float64\n",
      "2001              190 non-null float64\n",
      "2002              193 non-null float64\n",
      "2003              199 non-null float64\n",
      "2004              199 non-null float64\n",
      "2005              201 non-null float64\n",
      "2006              197 non-null float64\n",
      "2007              195 non-null float64\n",
      "2008              201 non-null float64\n",
      "2009              197 non-null float64\n",
      "2010              196 non-null float64\n",
      "2011              194 non-null float64\n",
      "2012              199 non-null float64\n",
      "2013              202 non-null float64\n",
      "2014              203 non-null float64\n",
      "2015              198 non-null float64\n",
      "2016              197 non-null float64\n",
      "2017              195 non-null float64\n",
      "2018              196 non-null float64\n",
      "dtypes: float64(59), object(3)\n",
      "memory usage: 129.9+ KB\n"
     ]
    }
   ],
   "source": [
    "df.info()"
   ]
  },
  {
   "cell_type": "code",
   "execution_count": 47,
   "metadata": {},
   "outputs": [
    {
     "data": {
      "text/plain": [
       "(264, 62)"
      ]
     },
     "execution_count": 47,
     "metadata": {},
     "output_type": "execute_result"
    }
   ],
   "source": [
    "df.shape"
   ]
  },
  {
   "cell_type": "code",
   "execution_count": 48,
   "metadata": {},
   "outputs": [],
   "source": [
    "graph_data = df[df['Type'] == 'Country'].sort_values(by='2018',ascending=False)[['2018']][:10]"
   ]
  },
  {
   "cell_type": "code",
   "execution_count": 49,
   "metadata": {},
   "outputs": [
    {
     "data": {
      "text/html": [
       "<div>\n",
       "<style scoped>\n",
       "    .dataframe tbody tr th:only-of-type {\n",
       "        vertical-align: middle;\n",
       "    }\n",
       "\n",
       "    .dataframe tbody tr th {\n",
       "        vertical-align: top;\n",
       "    }\n",
       "\n",
       "    .dataframe thead th {\n",
       "        text-align: right;\n",
       "    }\n",
       "</style>\n",
       "<table border=\"1\" class=\"dataframe\">\n",
       "  <thead>\n",
       "    <tr style=\"text-align: right;\">\n",
       "      <th></th>\n",
       "      <th>2018</th>\n",
       "    </tr>\n",
       "    <tr>\n",
       "      <th>Name</th>\n",
       "      <th></th>\n",
       "    </tr>\n",
       "  </thead>\n",
       "  <tbody>\n",
       "    <tr>\n",
       "      <th>United States</th>\n",
       "      <td>649,000,000,000.0</td>\n",
       "    </tr>\n",
       "    <tr>\n",
       "      <th>China</th>\n",
       "      <td>250,000,000,000.0</td>\n",
       "    </tr>\n",
       "    <tr>\n",
       "      <th>Saudi Arabia</th>\n",
       "      <td>67,554,666,667.0</td>\n",
       "    </tr>\n",
       "    <tr>\n",
       "      <th>India</th>\n",
       "      <td>66,510,289,108.0</td>\n",
       "    </tr>\n",
       "    <tr>\n",
       "      <th>France</th>\n",
       "      <td>63,799,676,593.0</td>\n",
       "    </tr>\n",
       "    <tr>\n",
       "      <th>Russian Federation</th>\n",
       "      <td>61,387,546,980.0</td>\n",
       "    </tr>\n",
       "    <tr>\n",
       "      <th>United Kingdom</th>\n",
       "      <td>49,997,192,521.0</td>\n",
       "    </tr>\n",
       "    <tr>\n",
       "      <th>Germany</th>\n",
       "      <td>49,470,627,811.0</td>\n",
       "    </tr>\n",
       "    <tr>\n",
       "      <th>Japan</th>\n",
       "      <td>46,617,954,864.0</td>\n",
       "    </tr>\n",
       "    <tr>\n",
       "      <th>South Korea</th>\n",
       "      <td>43,069,973,343.0</td>\n",
       "    </tr>\n",
       "  </tbody>\n",
       "</table>\n",
       "</div>"
      ],
      "text/plain": [
       "                                2018\n",
       "Name                                \n",
       "United States      649,000,000,000.0\n",
       "China              250,000,000,000.0\n",
       "Saudi Arabia        67,554,666,667.0\n",
       "India               66,510,289,108.0\n",
       "France              63,799,676,593.0\n",
       "Russian Federation  61,387,546,980.0\n",
       "United Kingdom      49,997,192,521.0\n",
       "Germany             49,470,627,811.0\n",
       "Japan               46,617,954,864.0\n",
       "South Korea         43,069,973,343.0"
      ]
     },
     "execution_count": 49,
     "metadata": {},
     "output_type": "execute_result"
    }
   ],
   "source": [
    "graph_data"
   ]
  },
  {
   "cell_type": "code",
   "execution_count": 105,
   "metadata": {},
   "outputs": [
    {
     "data": {
      "text/plain": [
       "([0, 1, 2, 3, 4, 5, 6, 7, 8, 9], <a list of 10 Text xticklabel objects>)"
      ]
     },
     "execution_count": 105,
     "metadata": {},
     "output_type": "execute_result"
    },
    {
     "data": {
      "image/png": "[encoded data removed]",
      "text/plain": [
       "<Figure size 432x288 with 1 Axes>"
      ]
     },
     "metadata": {
      "needs_background": "light"
     },
     "output_type": "display_data"
    }
   ],
   "source": [
    "plt.plot(graph_data[\"2018\"],c ='Y')\n",
    "plt.xticks(rotation =45)"
   ]
  },
  {
   "cell_type": "code",
   "execution_count": 57,
   "metadata": {},
   "outputs": [],
   "source": [
    "df_india = df_with_index[df_with_index[\"Name\"] == \"India\"]"
   ]
  },
  {
   "cell_type": "code",
   "execution_count": 58,
   "metadata": {},
   "outputs": [],
   "source": [
    "df_ind =df_india.drop([\"Indicator Name\",\"Code\", \"Type\"], axis =1)"
   ]
  },
  {
   "cell_type": "code",
   "execution_count": 93,
   "metadata": {},
   "outputs": [],
   "source": [
    "df_ind_graph =df_ind.melt(id_vars=[\"Name\"], \n",
    "        var_name=[\"Date\"], \n",
    "        value_name=\"Expend\").sort_values(by = 'Expend',ascending = False)"
   ]
  },
  {
   "cell_type": "code",
   "execution_count": 94,
   "metadata": {},
   "outputs": [],
   "source": [
    "df_ind_graph[\"Date\"] = pd.to_datetime(df_ind_graph[\"Date\"])"
   ]
  },
  {
   "cell_type": "code",
   "execution_count": 119,
   "metadata": {},
   "outputs": [
    {
     "data": {
      "text/plain": [
       "Text(0.5,1,'1963 to 2018 Military Expend increse \\n Year wise')"
      ]
     },
     "execution_count": 119,
     "metadata": {},
     "output_type": "execute_result"
    },
    {
     "data": {
      "image/png": "[encoded data removed]",
      "text/plain": [
       "<Figure size 432x288 with 1 Axes>"
      ]
     },
     "metadata": {
      "needs_background": "light"
     },
     "output_type": "display_data"
    }
   ],
   "source": [
    "plt.plot(df_ind_graph['Date'],df_ind_graph['Expend'],c='r')\n",
    "plt.xlabel(\"Year\")\n",
    "plt.ylabel(\"Increase Expend\")\n",
    "plt.title(\"1963 to 2018 Military Expend increse \\n Year wise\")"
   ]
  },
  {
   "cell_type": "code",
   "execution_count": 116,
   "metadata": {},
   "outputs": [
    {
     "data": {
      "text/plain": [
       "'\\nconclusion \\nMilitary expediture Budget increase little bit at 1963 due to india-china after that it was increase in 90s and after 2003\\nit increses so fast.\\n'"
      ]
     },
     "execution_count": 116,
     "metadata": {},
     "output_type": "execute_result"
    }
   ],
   "source": [
    "'''\n",
    "conclusion \n",
    "Military expediture Budget increase little bit at 1963 due to india-china after that it was increase in 90s and after 2003\n",
    "it increses so fast.\n",
    "'''"
   ]
  },
  {
   "cell_type": "code",
   "execution_count": null,
   "metadata": {},
   "outputs": [],
   "source": []
  }
 ],
 "metadata": {
  "kernelspec": {
   "display_name": "Python 3",
   "language": "python",
   "name": "python3"
  },
  "language_info": {
   "codemirror_mode": {
    "name": "ipython",
    "version": 3
   },
   "file_extension": ".py",
   "mimetype": "text/x-python",
   "name": "python",
   "nbconvert_exporter": "python",
   "pygments_lexer": "ipython3",
   "version": "3.7.1"
  }
 },
 "nbformat": 4,
 "nbformat_minor": 4
}
